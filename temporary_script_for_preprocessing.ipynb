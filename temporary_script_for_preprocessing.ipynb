{
 "cells": [
  {
   "cell_type": "code",
   "execution_count": 2,
   "metadata": {},
   "outputs": [],
   "source": [
    "import pandas as pd\n",
    "import numpy as np\n",
    "import GEOparse, re, copy\n",
    "import csv\n",
    "import numpy as np\n",
    "import pandas as pd\n",
    "from tqdm import tqdm"
   ]
  },
  {
   "cell_type": "code",
   "execution_count": 3,
   "metadata": {},
   "outputs": [],
   "source": [
    "study_info = pd.read_csv(\"/data/users-workspace/ruchika.sharma/GenePrioritization/GSE_ids.csv\")\n",
    "GSEID = study_info['GSE_id'].values.tolist()\n",
    "unique_GSE = set(GSEID)\n",
    "Log_normalised = study_info.loc[study_info['Tag'] == 'log']\n",
    "Log_normalised_GSE = set(Log_normalised['GSE_id'])\n",
    "quantile_normalized = study_info.loc[study_info['Tag'] == 'not_log']\n",
    "quantile_normalized_GSE = set(quantile_normalized['GSE_id'])\n",
    "raw_signal = study_info.loc[study_info['Tag'] == 'not_quantile/not_log']\n",
    "raw_signal_GSE = set(raw_signal['GSE_id'])"
   ]
  },
  {
   "cell_type": "code",
   "execution_count": 4,
   "metadata": {},
   "outputs": [
    {
     "data": {
      "text/plain": [
       "{'GSE148004'}"
      ]
     },
     "execution_count": 4,
     "metadata": {},
     "output_type": "execute_result"
    }
   ],
   "source": [
    "unique_GSE"
   ]
  },
  {
   "cell_type": "code",
   "execution_count": 5,
   "metadata": {},
   "outputs": [],
   "source": [
    "def getGEO(GSEID):\n",
    "    try:\n",
    "        gse = GEOparse.get_GEO(geo = GSEID, destdir = \"/data/users-workspace/ruchika.sharma\", silent=True)\n",
    "        return gse\n",
    "    except Exception as e:\n",
    "        print(GSEID)\n",
    "        print(e)"
   ]
  },
  {
   "cell_type": "code",
   "execution_count": 6,
   "metadata": {},
   "outputs": [],
   "source": [
    "def quantileNormalize(df_input):\n",
    "    df = df_input.copy()\n",
    "    #compute rank\n",
    "    dic = {}\n",
    "    for col in df:\n",
    "        dic.update({col : sorted(df[col])})\n",
    "    sorted_df = pd.DataFrame(dic)\n",
    "    rank = sorted_df.mean(axis = 1).tolist()\n",
    "    #sort\n",
    "    for col in df:\n",
    "        t = np.searchsorted(np.sort(df[col]), df[col])\n",
    "        df[col] = [rank[i] for i in t]\n",
    "    return df"
   ]
  },
  {
   "cell_type": "code",
   "execution_count": 21,
   "metadata": {},
   "outputs": [],
   "source": [
    "def prep_deg_input(gse, gse_id, quantile , log):\n",
    "#     if gpl is None:\n",
    "#         raise ValueError(\"gpl is None\")\n",
    "    #For expression data\n",
    "    gpl_name = ([key for key in gse.gpls.keys()])[0]\n",
    "    pivoted_samples = gse.pivot_samples('VALUE')\n",
    "    samples = gse.pivot_samples(\"VALUE\")\n",
    "    gse.pivot_samples('VALUE')\n",
    "    #gse.gpls[gpl_name].table.head(50)\n",
    "    gse_annotated = pivoted_samples.reset_index().merge(gse.gpls[gpl_name].table[[\"ID\",\"GENE_SYMBOL\"]], left_on='ID_REF', right_on=\"ID\").set_index('ID_REF')\n",
    "    gse_annotated.reset_index(level=0, inplace=True)\n",
    "    gse_annotated.dropna()\n",
    "    del gse_annotated[\"ID_REF\"]\n",
    "    del gse_annotated[\"ID\"]\n",
    "    gse_annotated = gse_annotated.dropna(subset=['GENE_SYMBOL'])#Replace\n",
    "    gse_annotated = gse_annotated.rename(columns={'GENE_SYMBOL': \"Gene\"})\n",
    "    #gse_annotated = gse_annotated[~gse_annotated.Gene.str.contains(\"///\")]\n",
    "    #gse_annotated['Gene'] = gse_annotated['Gene'].str.split('//').str[1]\n",
    "    gse_annotated = gse_annotated.groupby(\"Gene\").median()\n",
    "    if quantile:\n",
    "        gse_annotated = quantileNormalize(gse_annotated)\n",
    "    if log:\n",
    "        gse_annotated = gse_annotated.apply(np.log2, axis=0)\n",
    "    gse_annotated.reset_index(level=0, inplace=True)\n",
    "    #print(gse_annotated)\n",
    "    gse_annotated.to_csv(f'/data/users-workspace/ruchika.sharma/{gse_id}_ExpData.csv', index=False)"
   ]
  },
  {
   "cell_type": "code",
   "execution_count": 22,
   "metadata": {},
   "outputs": [
    {
     "name": "stderr",
     "output_type": "stream",
     "text": [
      "1it [00:03,  3.73s/it]\n"
     ]
    }
   ],
   "source": [
    "error_gse = []\n",
    "for i, Gid in tqdm(enumerate(unique_GSE)):\n",
    "    gse = getGEO(Gid)\n",
    "    try:\n",
    "        quantile = Gid in raw_signal_GSE\n",
    "        log = (Gid in quantile_normalized_GSE) or quantile\n",
    "        prep_deg_input(gse, Gid, quantile, log)\n",
    "    except (ValueError, KeyError) as e:\n",
    "        print(Gid, e)\n",
    "    error_gse.append(Gid)"
   ]
  },
  {
   "cell_type": "code",
   "execution_count": 27,
   "metadata": {},
   "outputs": [
    {
     "data": {
      "text/plain": [
       "['GSE27973',\n",
       " 'GSE37827',\n",
       " 'GSE17400',\n",
       " 'GSE45042',\n",
       " 'GSE36016',\n",
       " 'GSE49263',\n",
       " 'GSE33266',\n",
       " 'GSE40840',\n",
       " 'GSE40824',\n",
       " 'GSE40827',\n",
       " 'GSE34205',\n",
       " 'GSE59185',\n",
       " 'GSE56677',\n",
       " 'GSE47962',\n",
       " 'GSE51387',\n",
       " 'GSE50878',\n",
       " 'GSE49262',\n",
       " 'GSE36287',\n",
       " 'GSE33267',\n",
       " 'GSE51386',\n",
       " 'GSE68820']"
      ]
     },
     "execution_count": 27,
     "metadata": {},
     "output_type": "execute_result"
    }
   ],
   "source": [
    "GENE_SYMBOL\n",
    "GB_ACC"
   ]
  },
  {
   "cell_type": "code",
   "execution_count": 27,
   "metadata": {},
   "outputs": [],
   "source": [
    "####Sample_info\n",
    "df2 = pd.read_csv(\"/data/users-workspace/ruchika.sharma/sample_ids.csv\")\n",
    "df3 = df2.dropna()\n",
    "for i in unique_GSE:\n",
    "    study_specific= df3[df3['ExperimentID'].isin({i})]\n",
    "    study_specific.to_csv(f'/data/users-workspace/ruchika.sharma/COVID19/Microarray/{i}_Sample_info.csv', index = False)"
   ]
  },
  {
   "cell_type": "code",
   "execution_count": null,
   "metadata": {},
   "outputs": [],
   "source": []
  }
 ],
 "metadata": {
  "kernelspec": {
   "display_name": "Python 3",
   "language": "python",
   "name": "python3"
  },
  "language_info": {
   "codemirror_mode": {
    "name": "ipython",
    "version": 3
   },
   "file_extension": ".py",
   "mimetype": "text/x-python",
   "name": "python",
   "nbconvert_exporter": "python",
   "pygments_lexer": "ipython3",
   "version": "3.7.3"
  }
 },
 "nbformat": 4,
 "nbformat_minor": 2
}
