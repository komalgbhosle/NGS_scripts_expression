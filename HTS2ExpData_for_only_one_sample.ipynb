{
 "cells": [
  {
   "cell_type": "code",
   "execution_count": 56,
   "metadata": {},
   "outputs": [],
   "source": [
    "import pandas as pd\n",
    "import os\n",
    "import numpy as np\n",
    "import math"
   ]
  },
  {
   "cell_type": "code",
   "execution_count": null,
   "metadata": {},
   "outputs": [],
   "source": [
    "###For tpm data\n",
    "PRJNA = []\n",
    "def get_exp_matrix(main_directory):\n",
    "    #PRJNA = []\n",
    "    dictionary = {}\n",
    "    for study_ids in os.listdir(f\"{main_directory}/tpm_matrix\"):\n",
    "        print(study_ids)\n",
    "        fpkm_values = pd.read_csv(f\"/data/users-workspace/ruchika.sharma/tmp_results/expression_values/tpm_matrix/{study_ids}\", index_col = False, sep = '\\t')\n",
    "        final_df = fpkm_values.rename(columns={'Unnamed: 0': 'Gene'})\n",
    "        final_dff = final_df.iloc[:,0:10]\n",
    "        fin_df = final_dff.set_index(list(final_dff.columns[[0,1]]))\n",
    "        fin_df.iloc[:,0:9] +=1\n",
    "        #fin_df\n",
    "        log_df = np.log2(fin_df)\n",
    "        #log_df\n",
    "        log_df2 = log_df.reset_index()\n",
    "        log_df2.drop(log_df2.columns[[1]], axis=1, inplace=True)\n",
    "        log_df_final = log_df2.rename(columns={'gene_id':'Gene'})\n",
    "    #     ####Sample_info\n",
    "    #     df2 = pd.read_csv(\"sample_info.csv\", sep = '\\t')\n",
    "    #     df3 = df2.dropna()\n",
    "    #     df3\n",
    "        PRJNA.append(study_ids)\n",
    "        dictionary[study_ids] = log_df_final\n",
    "    return log_df_final"
   ]
  },
  {
   "cell_type": "code",
   "execution_count": 61,
   "metadata": {},
   "outputs": [
    {
     "data": {
      "text/plain": [
       "'PRJNA486744'"
      ]
     },
     "execution_count": 61,
     "metadata": {},
     "output_type": "execute_result"
    }
   ],
   "source": [
    "study_ids"
   ]
  },
  {
   "cell_type": "code",
   "execution_count": 53,
   "metadata": {
    "scrolled": true
   },
   "outputs": [],
   "source": [
    "####Sample_info\n",
    "df2 = pd.read_csv(\"/data/users-workspace/ruchika.sharma/tmp_results/expression_values/Expression_final_results/sample_info.csv\")\n",
    "df3 = df2.dropna()\n",
    "study_specific= df3[df3['ExperimentID'].isin({study_ids})]\n",
    "     #print(study_specific)\n",
    "study_specific.to_csv(f'/data/users-workspace/ruchika.sharma/tmp_results/expression_values/Expression_final_results/{study_ids}_Sample_info.csv', index = False)"
   ]
  },
  {
   "cell_type": "code",
   "execution_count": 55,
   "metadata": {},
   "outputs": [
    {
     "name": "stdout",
     "output_type": "stream",
     "text": [
      "PRJNA486744\n"
     ]
    }
   ],
   "source": [
    "main_directory = '/data/users-workspace/ruchika.sharma/tmp_results/expression_values/'\n",
    "exp_matrix = get_exp_matrix(main_directory)\n",
    "exp_matrix.to_csv(f\"/data/users-workspace/ruchika.sharma/tmp_results/expression_values/Expression_final_results/{study_ids}_TPM_ExpData.csv\", index=False)"
   ]
  },
  {
   "cell_type": "code",
   "execution_count": null,
   "metadata": {},
   "outputs": [],
   "source": []
  },
  {
   "cell_type": "code",
   "execution_count": null,
   "metadata": {},
   "outputs": [],
   "source": []
  }
 ],
 "metadata": {
  "kernelspec": {
   "display_name": "Python 3",
   "language": "python",
   "name": "python3"
  },
  "language_info": {
   "codemirror_mode": {
    "name": "ipython",
    "version": 3
   },
   "file_extension": ".py",
   "mimetype": "text/x-python",
   "name": "python",
   "nbconvert_exporter": "python",
   "pygments_lexer": "ipython3",
   "version": "3.7.3"
  }
 },
 "nbformat": 4,
 "nbformat_minor": 2
}
